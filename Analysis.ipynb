{
  "cells": [
    {
      "cell_type": "code",
      "execution_count": null,
      "metadata": {
        "id": "hCMamoVOigVd"
      },
      "outputs": [],
      "source": [
        "import pandas as pd\n",
        "import geopandas as gpd\n",
        "from shapely.geometry import Point, LineString, Polygon\n",
        "import folium\n",
        "from folium import GeoJson\n",
        "from folium import Choropleth\n",
        "from folium.plugins import HeatMap\n",
        "import numpy as np\n",
        "import matplotlib.pyplot as plt\n",
        "import json\n",
        "from datetime import timedelta\n",
        "import requests\n",
        "import os\n",
        "from dotenv import load_dotenv\n",
        "from geopy.distance import distance"
      ]
    },
    {
      "cell_type": "code",
      "execution_count": null,
      "metadata": {
        "id": "DI0s5Lo9igVe"
      },
      "outputs": [],
      "source": [
        "bus_routes = pd.read_csv(\"data/bus_routes_full.csv\")\n",
        "bus_stops = pd.read_csv(\"data/bus_stops_full.csv\")\n",
        "bus_services = pd.read_csv(\"data/bus_services_full.csv\")\n",
        "passenger_volume_OD = pd.read_csv(\"data/passenger_volume_OD.csv\")\n",
        "passenger_volume = pd.read_csv(\"data/passenger_volume.csv\")\n",
        "planning_areas = gpd.read_file(\"data/MasterPlan2019PlanningAreaBoundaryNoSea.geojson\")\n",
        "mrt_stations = pd.read_csv(\"data/mrt_stations.csv\")\n"
      ]
    },
    {
      "cell_type": "code",
      "source": [
        "load_dotenv()\n",
        "onemap_api_key = os.getenv('OneMap_api_key')"
      ],
      "metadata": {
        "id": "v4rHEjurmbPD"
      },
      "execution_count": null,
      "outputs": []
    },
    {
      "cell_type": "code",
      "execution_count": null,
      "metadata": {
        "id": "sNvoktBFigVf"
      },
      "outputs": [],
      "source": [
        "bus_routes_combined = pd.merge(bus_routes, bus_stops, on='BusStopCode', how='left')\n",
        "\n",
        "bus_services_subset = bus_services[['ServiceNo', 'Category']].drop_duplicates(subset='ServiceNo')\n",
        "\n",
        "bus_routes_combined = pd.merge(\n",
        "    bus_routes_combined,\n",
        "    bus_services_subset,\n",
        "    on=\"ServiceNo\",\n",
        "    how=\"left\"\n",
        ")\n",
        "\n",
        "bus_routes_combined.head()\n",
        "\n"
      ]
    },
    {
      "cell_type": "code",
      "execution_count": null,
      "metadata": {
        "id": "pNQIwL0iigVf"
      },
      "outputs": [],
      "source": [
        "bus_routes_combined['geometry'] = bus_routes_combined.apply(lambda x: Point((x.Longitude, x.Latitude)), axis=1)"
      ]
    },
    {
      "cell_type": "code",
      "execution_count": null,
      "metadata": {
        "id": "V88Ejf9WigVf",
        "outputId": "e112098d-6ac2-4822-d5ba-fb2d62a77e1a"
      },
      "outputs": [
        {
          "name": "stdout",
          "output_type": "stream",
          "text": [
            "  ServiceNo Operator  Direction  StopSequence  BusStopCode  Distance  \\\n",
            "0        10     SBST          1             1        75009       0.0   \n",
            "1        10     SBST          1             2        76059       0.6   \n",
            "2        10     SBST          1             3        76069       1.1   \n",
            "3        10     SBST          1             4        96289       2.3   \n",
            "4        10     SBST          1             5        96109       2.7   \n",
            "\n",
            "  WD_FirstBus WD_LastBus SAT_FirstBus SAT_LastBus SUN_FirstBus SUN_LastBus  \\\n",
            "0        0500       2300         0500        2300         0500        2300   \n",
            "1        0502       2302         0502        2302         0502        2302   \n",
            "2        0504       2304         0504        2304         0503        2304   \n",
            "3        0508       2308         0508        2309         0507        2308   \n",
            "4        0509       2310         0509        2311         0508        2309   \n",
            "\n",
            "          RoadName           Description  Latitude   Longitude  \\\n",
            "0  Tampines Ctrl 1          Tampines Int  1.354076  103.943391   \n",
            "1   Tampines Ave 5  Opp Our Tampines Hub  1.352962  103.941652   \n",
            "2   Tampines Ave 5               Blk 147  1.348753  103.942086   \n",
            "3        Simei Ave   Changi General Hosp  1.340055  103.948381   \n",
            "4        Simei Ave          Opp Blk 3012  1.337371  103.950673   \n",
            "\n",
            "                    geometry  \n",
            "0  POINT (103.94339 1.35408)  \n",
            "1  POINT (103.94165 1.35296)  \n",
            "2  POINT (103.94209 1.34875)  \n",
            "3  POINT (103.94838 1.34005)  \n",
            "4  POINT (103.95067 1.33737)  \n"
          ]
        }
      ],
      "source": [
        "bus_routes_combined = gpd.GeoDataFrame(bus_routes_combined, geometry='geometry')\n",
        "\n",
        "bus_routes_combined = bus_routes_combined.set_crs(epsg=4326)\n",
        "\n",
        "print(bus_routes_combined.head())"
      ]
    },
    {
      "cell_type": "code",
      "execution_count": null,
      "metadata": {
        "id": "hzBIi7UVigVg"
      },
      "outputs": [],
      "source": [
        "bus_routes_combined.to_csv(\"data/bus_routes_combined.csv\", index=False)"
      ]
    },
    {
      "cell_type": "code",
      "execution_count": null,
      "metadata": {
        "id": "_d6000DyigVg"
      },
      "outputs": [],
      "source": [
        "# Prepare LineStrings for all services\n",
        "routes = (\n",
        "    bus_routes_combined.sort_values(by=['ServiceNo', 'Direction', 'StopSequence'])\n",
        "    .groupby(['ServiceNo', 'Direction', 'Category'])['geometry']\n",
        "    .apply(lambda x: LineString(x.tolist()))\n",
        "    .reset_index()\n",
        ")\n",
        "\n",
        "bus_routes_ls = gpd.GeoDataFrame(routes, geometry='geometry', crs=\"EPSG:4326\")\n",
        "\n",
        "# Filter for trunk services only to create trunk_routes_ls\n",
        "trunk_routes_ls = bus_routes_ls[bus_routes_ls['Category'] == 'TRUNK'].copy()"
      ]
    },
    {
      "cell_type": "code",
      "execution_count": null,
      "metadata": {
        "id": "ux4RK2xTigVg",
        "outputId": "9d3726b7-742a-442b-a2d1-b24ed60c4c11"
      },
      "outputs": [
        {
          "name": "stdout",
          "output_type": "stream",
          "text": [
            "  ServiceNo  Direction                                           geometry\n",
            "0        10          1  LINESTRING (103.94339 1.35408, 103.94165 1.352...\n",
            "1        10          2  LINESTRING (103.76988 1.29425, 103.76908 1.292...\n",
            "2       100          1  LINESTRING (103.87169 1.35047, 103.87205 1.346...\n",
            "3       100          2  LINESTRING (103.78932 1.31107, 103.78969 1.309...\n",
            "4      100A          1  LINESTRING (103.87169 1.35047, 103.87205 1.346...\n"
          ]
        }
      ],
      "source": [
        "print(bus_routes_ls.head())\n",
        "bus_routes_ls.to_file(\"data/line_string.geojson\", driver='GeoJSON')"
      ]
    },
    {
      "cell_type": "code",
      "execution_count": null,
      "metadata": {
        "id": "xn_Jt3NMigVg"
      },
      "outputs": [],
      "source": [
        "\n",
        "def duplicate_entries(df):\n",
        "\n",
        "    new_rows = []\n",
        "\n",
        "    for _, row in df.iterrows():\n",
        "        # Check if the STN_NO contains a '/'\n",
        "        if '/' in row['STN_NO']:\n",
        "            # Split the STN_NO\n",
        "            lines = row['STN_NO'].split('/')\n",
        "            for line in lines:\n",
        "                new_row = row.copy()\n",
        "                new_row['STN_NO'] = line.strip()\n",
        "                new_rows.append(new_row)\n",
        "        else:\n",
        "            new_rows.append(row)\n",
        "\n",
        "    return pd.DataFrame(new_rows)\n",
        "\n",
        "\n",
        "mrt_stations_expanded = duplicate_entries(mrt_stations)\n",
        "\n",
        "mrt_stations_expanded['LINE'] = mrt_stations_expanded['STN_NO'].str.extract(r'([A-Z]+)')\n",
        "\n",
        "mrt_stations_expanded['NO'] = mrt_stations_expanded['STN_NO'].str.extract(r'(\\d+)$')\n",
        "\n",
        "mrt_stations_expanded['NO'] = mrt_stations_expanded['NO'].astype(int)\n",
        "\n",
        "mrt_stations_clean = (mrt_stations_expanded.sort_values(['LINE', 'NO']).reset_index(drop=True))\n",
        "\n",
        "print(mrt_stations_clean.head())"
      ]
    },
    {
      "cell_type": "code",
      "execution_count": null,
      "metadata": {
        "id": "VpbAI2OWigVg"
      },
      "outputs": [],
      "source": [
        "\n",
        "mrt_gdf = gpd.GeoDataFrame(\n",
        "   mrt_stations_clean,\n",
        "    geometry=gpd.points_from_xy(mrt_stations_clean.Longitude, mrt_stations_clean.Latitude),\n",
        "    crs=\"EPSG:4326\"\n",
        ")"
      ]
    },
    {
      "cell_type": "markdown",
      "source": [
        "Creating MRT buffers"
      ],
      "metadata": {
        "id": "cetpakhG2wiP"
      }
    },
    {
      "cell_type": "code",
      "source": [
        "def create_mrt_buffer(mrt_gdf, mrt_line, buffer_distance):\n",
        "\n",
        "    filtered_gdf = mrt_gdf[mrt_gdf[\"LINE\"] == mrt_line]\n",
        "\n",
        "    if filtered_gdf.empty:\n",
        "        raise ValueError(f\"No data found for MRT line: {mrt_line}\")\n",
        "\n",
        "    route_line = LineString(filtered_gdf['geometry'].tolist())\n",
        "\n",
        "    route_ls = gpd.GeoDataFrame({'Line': ['MRT'], 'geometry': [route_line]}, crs=\"EPSG:4326\")\n",
        "\n",
        "    route_ls = route_ls.to_crs(epsg=32648)\n",
        "\n",
        "    mrt_buffer = route_ls.buffer(buffer_distance).union_all()\n",
        "\n",
        "    return mrt_buffer"
      ],
      "metadata": {
        "id": "Kz6CIK4m21Q1"
      },
      "execution_count": null,
      "outputs": []
    },
    {
      "cell_type": "code",
      "source": [
        "DTL_buffer = create_mrt_buffer(mrt_gdf, \"DT\", 400)\n",
        "TEL_buffer = create_mrt_buffer(mrt_gdf, \"TE\", 400)"
      ],
      "metadata": {
        "id": "X9AK_44gnLoc"
      },
      "execution_count": null,
      "outputs": []
    },
    {
      "cell_type": "markdown",
      "source": [
        "Calculating bus routes overlap with MRT buffers"
      ],
      "metadata": {
        "id": "0P8GestMnN3w"
      }
    },
    {
      "cell_type": "code",
      "source": [
        "def calculate_bus_overlap(bus_routes_ls, buffer):\n",
        "\n",
        "    bus_routes_ls = bus_routes_ls.to_crs(epsg=32648)\n",
        "\n",
        "    def calculate_overlap(route):\n",
        "        intersection = route.intersection(buffer)\n",
        "        overlap_length = intersection.length\n",
        "        route_length = route.length\n",
        "        overlap_percentage = (overlap_length / route_length) * 100 if route_length > 0 else 0\n",
        "        return pd.Series({'Overlap Length': overlap_length, 'Overlap Percentage': overlap_percentage})\n",
        "\n",
        "    buffer_overlap = bus_routes_ls.copy()\n",
        "\n",
        "    # Apply the overlap calculation\n",
        "    buffer_overlap[['Overlap Length', 'Overlap Percentage']] = buffer_overlap['geometry'].apply(calculate_overlap)\n",
        "\n",
        "    # Group by ServiceNo and Direction and aggregate the overlap data\n",
        "    service_overlap = buffer_overlap.groupby(['ServiceNo', 'Direction'])[['Overlap Length', 'Overlap Percentage']].sum().reset_index()\n",
        "\n",
        "    return service_overlap"
      ],
      "metadata": {
        "id": "UVUotyB126xG"
      },
      "execution_count": null,
      "outputs": []
    },
    {
      "cell_type": "code",
      "source": [
        "TEL_bus_overlap = calculate_bus_overlap(trunk_routes_ls, TEL_buffer)\n",
        "DTL_bus_overlap = calculate_bus_overlap(trunk_routes_ls, DTL_buffer)\n",
        "\n",
        "combined_bus_overlap = pd.concat([TEL_bus_overlap, DTL_bus_overlap], ignore_index=True)"
      ],
      "metadata": {
        "id": "PFPN1cQGEVc3"
      },
      "execution_count": null,
      "outputs": []
    },
    {
      "cell_type": "markdown",
      "source": [
        "Find the top 10 bus routes with the most overlap with TEL/DTL"
      ],
      "metadata": {
        "id": "2YX9LMEAndsb"
      }
    },
    {
      "cell_type": "code",
      "source": [
        "combined_bus_overlap_sorted = combined_bus_overlap.sort_values(by='Overlap Length', ascending=False)\n",
        "\n",
        "combined_bus_overlap_sorted = combined_bus_overlap_sorted[combined_bus_overlap_sorted['ServiceNo'].str.match(r'^\\d+$')]\n",
        "\n",
        "combined_bus_overlap_sorted = combined_bus_overlap_sorted[combined_bus_overlap_sorted['Direction'] == 1]\n",
        "\n",
        "top_10_bus_services = combined_bus_overlap_sorted.drop_duplicates(subset=['ServiceNo']).head(10)\n",
        "\n",
        "print(top_10_bus_services)"
      ],
      "metadata": {
        "id": "IU8_EM_yndIP"
      },
      "execution_count": null,
      "outputs": []
    },
    {
      "cell_type": "code",
      "source": [
        "filtered_bus_routes = top_10_bus_services.merge(bus_routes_combined, on=['ServiceNo', 'Direction'], how='left')"
      ],
      "metadata": {
        "id": "DcE4FFHrnspX"
      },
      "execution_count": null,
      "outputs": []
    },
    {
      "cell_type": "markdown",
      "source": [
        "Find the average tap volume to estimate passenger demand for each bus service"
      ],
      "metadata": {
        "id": "zW4GwB-moECD"
      }
    },
    {
      "cell_type": "code",
      "source": [
        "\n",
        "def calculate_average_tap_volume(bus_routes, passenger_volume):\n",
        "\n",
        "    # Aggregate total tap volumes by PT_CODE\n",
        "    tap_volume = passenger_volume.groupby('PT_CODE').agg(\n",
        "        TOTAL_TAP_IN_VOLUME=('TOTAL_TAP_IN_VOLUME', 'sum'),\n",
        "        TOTAL_TAP_OUT_VOLUME=('TOTAL_TAP_OUT_VOLUME', 'sum')\n",
        "    ).reset_index()\n",
        "\n",
        "    bus_stops_passenger_demand = bus_routes.merge(\n",
        "        tap_volume, left_on='BusStopCode', right_on='PT_CODE', how='left'\n",
        "    ).drop(columns=['PT_CODE'])\n",
        "\n",
        "    average_service_volume = (\n",
        "        bus_stops_passenger_demand\n",
        "        .groupby('ServiceNo')\n",
        "        .agg(\n",
        "            TOTAL_TAP_IN_VOLUME=('TOTAL_TAP_IN_VOLUME', 'sum'),\n",
        "            TOTAL_TAP_OUT_VOLUME=('TOTAL_TAP_OUT_VOLUME', 'sum'),\n",
        "            NumBusStops=('BusStopCode', 'nunique')\n",
        "        )\n",
        "        .reset_index()\n",
        "    )\n",
        "\n",
        "    # Calculate average tap-in and tap-out volumes and combined average tap volume\n",
        "    average_service_volume['AVG_TAP_VOLUME'] = (\n",
        "        (average_service_volume['TOTAL_TAP_IN_VOLUME'] + average_service_volume['TOTAL_TAP_OUT_VOLUME'])\n",
        "        / average_service_volume['NumBusStops']\n",
        "    )\n",
        "\n",
        "    average_service_volume = average_service_volume[['ServiceNo', 'AVG_TAP_VOLUME']]\n",
        "\n",
        "    return average_service_volume\n",
        "\n",
        "passenger_volume_sept = passenger_volume[\n",
        "    (passenger_volume['YEAR_MONTH'] == \"2024-09\")]\n",
        "\n",
        "avg_tap_volume = calculate_average_tap_volume(filtered_bus_routes, passenger_volume_sept)\n",
        "print(avg_tap_volume.sort_values(by='AVG_TAP_VOLUME', ascending=False))\n",
        "\n",
        "top10_avg_tap_volume=avg_tap_volume"
      ],
      "metadata": {
        "id": "CUxREV8k2TxL"
      },
      "execution_count": null,
      "outputs": []
    },
    {
      "cell_type": "code",
      "source": [
        "def get_passenger_demand(bus_routes_combined, passenger_volume, year_month):\n",
        "\n",
        "    passenger_volume= passenger_volume[(passenger_volume['YEAR_MONTH'] == year_month)]\n",
        "    # Group by PT_CODE and sum the relevant passenger volumes\n",
        "    passenger_volume = passenger_volume.groupby('PT_CODE').agg({\n",
        "        'TOTAL_TAP_IN_VOLUME': 'sum',\n",
        "        'TOTAL_TAP_OUT_VOLUME': 'sum'\n",
        "    }).reset_index()\n",
        "\n",
        "    # Count the number of services for each bus stop\n",
        "    service_counts = bus_routes_combined.groupby('BusStopCode')['ServiceNo'].nunique().reset_index()\n",
        "    service_counts.columns = ['BusStopCode', 'ServiceCount']\n",
        "\n",
        "    avg_tap_volume = pd.merge(service_counts, passenger_volume, left_on=\"BusStopCode\", right_on='PT_CODE', how='left')\n",
        "\n",
        "    # Clean up duplicate PT_CODE columns (from both merges)\n",
        "    avg_tap_volume.drop(columns=['PT_CODE'], inplace=True)\n",
        "\n",
        "    avg_tap_volume['avg_tap_in'] = avg_tap_volume['TOTAL_TAP_IN_VOLUME'] / avg_tap_volume['ServiceCount'].fillna(0).round().astype(int)\n",
        "    avg_tap_volume['avg_tap_out'] = avg_tap_volume['TOTAL_TAP_OUT_VOLUME'] / avg_tap_volume['ServiceCount'].fillna(0).round().astype(int)\n",
        "\n",
        "    bus_stops_passenger_demand = bus_routes_combined.merge(\n",
        "        avg_tap_volume, on='BusStopCode', how='left'\n",
        "    )\n",
        "\n",
        "    return bus_stops_passenger_demand\n"
      ],
      "metadata": {
        "id": "ElAp4u8nnzoh"
      },
      "execution_count": null,
      "outputs": []
    },
    {
      "cell_type": "code",
      "source": [
        "def calculate_average_tap_volume(bus_stops_passenger_demand):\n",
        "\n",
        "    average_service_volume = (\n",
        "        bus_stops_passenger_demand\n",
        "        .groupby('ServiceNo')\n",
        "        .agg(\n",
        "            TOTAL_TAP_IN_VOLUME=('avg_tap_in', 'sum'),\n",
        "            TOTAL_TAP_OUT_VOLUME=('avg_tap_out', 'sum'),\n",
        "            NumBusStops=('BusStopCode', 'nunique')\n",
        "        )\n",
        "        .reset_index()\n",
        "    )\n",
        "\n",
        "    # Calculate average tap-in and tap-out volumes and combined average tap volume\n",
        "    average_service_volume['AVG_TAP_VOLUME'] = (\n",
        "        (average_service_volume['TOTAL_TAP_IN_VOLUME'] + average_service_volume['TOTAL_TAP_OUT_VOLUME'])\n",
        "        / average_service_volume['NumBusStops']\n",
        "    )\n",
        "\n",
        "    average_service_volume = average_service_volume[['ServiceNo', 'AVG_TAP_VOLUME']]\n",
        "\n",
        "    return average_service_volume"
      ],
      "metadata": {
        "id": "c9Z6tZ-gn4L3"
      },
      "execution_count": null,
      "outputs": []
    },
    {
      "cell_type": "code",
      "source": [
        "avg_tap_volume_busstops = get_passenger_demand(bus_routes_combined, passenger_volume, \"2024-09\")\n",
        "top10_avg_tap_volume_busstops = avg_tap_volume_busstops[\n",
        "    avg_tap_volume_busstops[['ServiceNo', 'Direction']].apply(tuple, 1).isin(\n",
        "        filtered_bus_routes[['ServiceNo', 'Direction']].apply(tuple, 1)\n",
        "    )\n",
        "]\n",
        "\n",
        "top10_avg_tap_volume = calculate_average_tap_volume(top10_avg_tap_volume_busstops)\n",
        "print(top10_avg_tap_volume.sort_values(by='AVG_TAP_VOLUME', ascending=False))"
      ],
      "metadata": {
        "id": "Kd8A_o5-n8J6"
      },
      "execution_count": null,
      "outputs": []
    },
    {
      "cell_type": "markdown",
      "source": [
        "Find how many bus stops in a route are within 400m of an MRT station\n"
      ],
      "metadata": {
        "id": "jvPhFq1UoWMG"
      }
    },
    {
      "cell_type": "code",
      "source": [
        "def bus_stops_near_mrt(bus_routes_combined, mrt_gdf, buffer_distance=400):\n",
        "    results = []\n",
        "\n",
        "    # Set CRS for MRT stations\n",
        "    mrt_gdf = mrt_gdf.to_crs(epsg=32648)\n",
        "\n",
        "    # Create a buffer around each MRT station\n",
        "    mrt_buffers = mrt_gdf.copy()\n",
        "    mrt_buffers['geometry'] = mrt_buffers.geometry.buffer(buffer_distance)\n",
        "\n",
        "    # Iterate over each unique bus route and direction\n",
        "    unique_routes_directions = bus_routes_combined[['ServiceNo', 'Direction']].drop_duplicates()\n",
        "\n",
        "    for _, row in unique_routes_directions.iterrows():\n",
        "        route = row['ServiceNo']\n",
        "        direction = row['Direction']\n",
        "\n",
        "        # Filter bus stops for the current route and direction\n",
        "        bus_stops = bus_routes_combined[\n",
        "            (bus_routes_combined['ServiceNo'] == route) &\n",
        "            (bus_routes_combined['Direction'] == direction)\n",
        "        ]\n",
        "\n",
        "        # Create a GeoDataFrame for bus stops\n",
        "        bus_stops_gdf = gpd.GeoDataFrame(bus_stops, geometry=bus_stops['geometry'], crs=\"EPSG:4326\")\n",
        "\n",
        "        bus_stops_gdf = bus_stops_gdf.to_crs(epsg=32648)\n",
        "\n",
        "        # Check for bus stops within the MRT buffers\n",
        "        bus_stops_gdf['within_mrt_buffer'] = bus_stops_gdf.geometry.apply(\n",
        "            lambda bus_stop: any(mrt_buffer.intersects(bus_stop) for mrt_buffer in mrt_buffers.geometry)\n",
        "        )\n",
        "\n",
        "        # Count the total number of bus stops and those within the buffer\n",
        "        total_bus_stops = len(bus_stops_gdf)\n",
        "        count_within_buffer = bus_stops_gdf['within_mrt_buffer'].sum()\n",
        "\n",
        "        # Calculate the percentage of bus stops near MRT\n",
        "        percentage_within_buffer = (count_within_buffer / total_bus_stops * 100) if total_bus_stops > 0 else 0\n",
        "\n",
        "        # Store the results\n",
        "        results.append({\n",
        "            'Route': route,\n",
        "            'Direction': direction,\n",
        "            'Total Bus Stops': total_bus_stops,\n",
        "            'Bus Stops Within Buffer': count_within_buffer,\n",
        "            'Percentage Within Buffer': percentage_within_buffer\n",
        "        })\n",
        "\n",
        "    return results\n"
      ],
      "metadata": {
        "id": "H0RBIxNNoP17"
      },
      "execution_count": null,
      "outputs": []
    },
    {
      "cell_type": "code",
      "source": [
        "results = bus_stops_near_mrt(filtered_bus_routes, mrt_gdf, buffer_distance=400)\n",
        "\n",
        "results_df = pd.DataFrame(results)\n",
        "\n",
        "\n",
        "results_df = results_df.rename(columns={\n",
        "    \"Route\": \"ServiceNo\",\n",
        "    \"Percentage Within Buffer\": \"Percentage Near MRT\"\n",
        "})\n",
        "\n",
        "top10_near_mrt = results_df[['ServiceNo', 'Percentage Near MRT']]"
      ],
      "metadata": {
        "id": "SDnJfiJGZ0GL"
      },
      "execution_count": null,
      "outputs": []
    },
    {
      "cell_type": "markdown",
      "source": [
        "To find how many alternative bus services overlap with at least 30% of each shortlisted route."
      ],
      "metadata": {
        "id": "Jm7yeOHuZ4Tw"
      }
    },
    {
      "cell_type": "code",
      "source": [
        "def count_services_with_overlap(shortlisted_services, bus_routes_ls, threshold):\n",
        "\n",
        "    overlap_results = []\n",
        "\n",
        "    for _, shortlisted_row in shortlisted_services.iterrows():\n",
        "        service_no = shortlisted_row['ServiceNo']\n",
        "        shortlisted_geom = bus_routes_ls.loc[bus_routes_ls['ServiceNo'] == service_no, 'geometry'].values[0]\n",
        "\n",
        "        shortlisted_length = shortlisted_geom.length\n",
        "        overlap_count = 0\n",
        "        for _, existing_route in bus_routes_ls.iterrows():\n",
        "            existing_service_no = existing_route['ServiceNo']\n",
        "            existing_geom = existing_route['geometry']\n",
        "            existing_route_length = existing_geom.length\n",
        "\n",
        "            if service_no == existing_service_no:\n",
        "                continue\n",
        "\n",
        "            intersection = shortlisted_geom.intersection(existing_geom)\n",
        "            intersection_length = intersection.length if intersection.is_valid else 0\n",
        "\n",
        "            overlap_percentage = (intersection_length / shortlisted_length) * 100 if shortlisted_length > 0 else 0\n",
        "\n",
        "            if overlap_percentage >= threshold:\n",
        "                overlap_count += 1\n",
        "\n",
        "        overlap_results.append({\n",
        "            'ServiceNo': service_no,\n",
        "            'Overlap Count': overlap_count\n",
        "        })\n",
        "\n",
        "    overlap_count_df = pd.DataFrame(overlap_results)\n",
        "    return overlap_count_df"
      ],
      "metadata": {
        "id": "jHNzDA-_Z9SP"
      },
      "execution_count": null,
      "outputs": []
    },
    {
      "cell_type": "code",
      "source": [
        "top10_alt_buses = count_services_with_overlap(top_10_bus_services, bus_routes_ls, threshold=30)\n",
        "print(top10_alt_buses)"
      ],
      "metadata": {
        "id": "NkFKPMayaGNI"
      },
      "execution_count": null,
      "outputs": []
    },
    {
      "cell_type": "markdown",
      "source": [
        "Combining metrics for the 10 shortlisted bus routes"
      ],
      "metadata": {
        "id": "VVYYU94KaP0f"
      }
    },
    {
      "cell_type": "code",
      "source": [
        "top_10_metrics = pd.merge(top_10_bus_services, top10_avg_tap_volume, on=\"ServiceNo\", how=\"left\")\n",
        "top_10_metrics = pd.merge(top_10_metrics, top10_near_mrt, on = 'ServiceNo', how = \"left\")\n",
        "top_10_metrics = pd.merge(top_10_metrics, top10_alt_buses, on = 'ServiceNo', how = \"left\")\n",
        "\n",
        "print(top_10_metrics)"
      ],
      "metadata": {
        "id": "GaQAARgUaI0n"
      },
      "execution_count": null,
      "outputs": []
    },
    {
      "cell_type": "markdown",
      "source": [
        "Normalising metrics and creating a scoring framework"
      ],
      "metadata": {
        "id": "ffRewnZdaXmP"
      }
    },
    {
      "cell_type": "code",
      "source": [
        "from sklearn.preprocessing import MinMaxScaler\n",
        "\n",
        "top_10_metrics_rank = top_10_metrics\n",
        "\n",
        "columns_to_normalize = ['Overlap Length', 'Overlap Percentage', 'AVG_TAP_VOLUME', 'Percentage Near MRT', 'Overlap Count']\n",
        "\n",
        "\n",
        "# Apply min-max normalization\n",
        "scaler = MinMaxScaler()\n",
        "top_10_metrics_rank[columns_to_normalize] = scaler.fit_transform(top_10_metrics_rank[columns_to_normalize])\n",
        "\n",
        "top_10_metrics_rank['AVG_TAP_VOLUME'] = 1 - top_10_metrics_rank['AVG_TAP_VOLUME']\n",
        "\n",
        "# Inverted scaling for AVG_TAP_VOLUME so that higher demand means a lower score\n",
        "\n",
        "# Define weights for each metric\n",
        "weights = {\n",
        "    'Overlap Length': 0,\n",
        "    'Overlap Percentage': 5,\n",
        "    'AVG_TAP_VOLUME': 2,\n",
        "    'Percentage Near MRT': 1,\n",
        "    'Overlap Count': 2\n",
        "}\n",
        "\n",
        "top_10_metrics_rank['Final Score'] = (\n",
        "    top_10_metrics_rank['Overlap Length'] * weights['Overlap Length'] +\n",
        "    top_10_metrics_rank['Overlap Percentage'] * weights['Overlap Percentage'] +\n",
        "    top_10_metrics_rank['AVG_TAP_VOLUME'] * weights['AVG_TAP_VOLUME'] +\n",
        "    top_10_metrics_rank['Percentage Near MRT'] * weights['Percentage Near MRT'] +\n",
        "    top_10_metrics_rank['Overlap Count'] * weights['Overlap Count']\n",
        ")\n",
        "\n",
        "\n",
        "top_10_metrics_rank = top_10_metrics_rank.sort_values(by='Final Score', ascending=False)\n",
        "\n",
        "print(top_10_metrics_rank[['ServiceNo', 'Final Score'] + columns_to_normalize])\n"
      ],
      "metadata": {
        "id": "JzQdwD6haND4"
      },
      "execution_count": null,
      "outputs": []
    },
    {
      "cell_type": "markdown",
      "source": [
        "Calculating the passenger demand for each bus stop along the bus routes\n"
      ],
      "metadata": {
        "id": "k--TTLUPa5Nr"
      }
    },
    {
      "cell_type": "code",
      "source": [
        "def filter_avg_tap_volume(avg_tap_volume, ServiceNo):\n",
        "    filtered_avg_tap_volume = avg_tap_volume[avg_tap_volume['ServiceNo'] == str(ServiceNo)]\n",
        "\n",
        "    filtered_avg_tap_volume['avg_tap_in'].iloc[-1] = 0\n",
        "    filtered_avg_tap_volume['avg_tap_out'].iloc[0] = 0\n",
        "\n",
        "    # Sort the DataFrame by StopSequence for ordered plotting\n",
        "    filtered_avg_tap_volume = filtered_avg_tap_volume.sort_values(by='StopSequence')\n",
        "\n",
        "    # Convert BusStopCode to a categorical variable ordered by StopSequence\n",
        "    filtered_avg_tap_volume['BusStopCode'] = pd.Categorical(filtered_avg_tap_volume['BusStopCode'],\n",
        "                                                       categories=filtered_avg_tap_volume['BusStopCode'].unique(),\n",
        "                                                       ordered=True)\n",
        "    return filtered_avg_tap_volume\n"
      ],
      "metadata": {
        "id": "esxHQ_Hga-aH"
      },
      "execution_count": null,
      "outputs": []
    },
    {
      "cell_type": "markdown",
      "source": [
        "Plotting the passenger demand for each bus route"
      ],
      "metadata": {
        "id": "kyN2znyebArh"
      }
    },
    {
      "cell_type": "code",
      "source": [
        "passenger_volume_am = passenger_volume[\n",
        "        (passenger_volume['TIME_PER_HOUR'].isin([8, 9])) &\n",
        "        (passenger_volume[\"DAY_TYPE\"] == \"WEEKDAY\")]\n",
        "\n",
        "def plot_monthly_passenger_demand(bus_routes_combined, passenger_volume, service_no, months=[\"2024-07\", \"2024-08\", \"2024-09\"]):\n",
        "\n",
        "    passenger_demand_data = {}\n",
        "    for month in months:\n",
        "        passenger_demand = get_passenger_demand(bus_routes_combined, passenger_volume, month)\n",
        "\n",
        "        # Merge with bus routes to filter for specified service number and direction\n",
        "        passenger_demand = passenger_demand[\n",
        "            (passenger_demand['ServiceNo'] == service_no) & (passenger_demand['Direction'] == 1)\n",
        "        ].sort_values(by='StopSequence')\n",
        "\n",
        "        # Set tap-in/out values to 0 for first and last stops\n",
        "        if len(passenger_demand) > 0:\n",
        "            passenger_demand['avg_tap_in'].iloc[-1] = 0\n",
        "            passenger_demand['avg_tap_out'].iloc[0] = 0\n",
        "\n",
        "        # Set BusStopCode as a categorical variable for ordered plotting\n",
        "        passenger_demand['BusStopCode'] = pd.Categorical(\n",
        "            passenger_demand['BusStopCode'],\n",
        "            categories=passenger_demand['BusStopCode'].unique(),\n",
        "            ordered=True\n",
        "        )\n",
        "\n",
        "        passenger_demand_data[month] = passenger_demand\n",
        "\n",
        "    # Create side-by-side subplots\n",
        "    fig, axs = plt.subplots(1, 2, figsize=(20, 6))\n",
        "\n",
        "    # Plot average tap-in and tap-out volumes for each month\n",
        "    for month, color in zip(months, ['blue', 'orange', 'green']):\n",
        "        axs[0].plot(\n",
        "            range(len(passenger_demand_data[month])),\n",
        "            passenger_demand_data[month]['avg_tap_in'],\n",
        "            marker='o',\n",
        "            color=color,\n",
        "            linestyle='-',\n",
        "            label=month\n",
        "        )\n",
        "        axs[1].plot(\n",
        "            range(len(passenger_demand_data[month])),\n",
        "            passenger_demand_data[month]['avg_tap_out'],\n",
        "            marker='o',\n",
        "            color=color,\n",
        "            linestyle='-',\n",
        "            label=month\n",
        "        )\n",
        "\n",
        "    # Configure tap-in subplot\n",
        "    axs[0].set_xlabel('Bus Stop')\n",
        "    axs[0].set_ylabel('Average Tap-In Volume')\n",
        "    axs[0].set_title(f'Average Tap-In Volume for Bus Service {service_no} by Stop Sequence')\n",
        "    axs[0].set_xticks(range(len(passenger_demand_data[\"2024-07\"])))\n",
        "    axs[0].set_xticklabels(passenger_demand_data[months[0]]['Description'], rotation=90, ha='right')\n",
        "    axs[0].grid(axis='y')\n",
        "    axs[0].legend()\n",
        "\n",
        "    # Configure tap-out subplot\n",
        "    axs[1].set_xlabel('Bus Stop Code')\n",
        "    axs[1].set_ylabel('Average Tap-Out Volume')\n",
        "    axs[1].set_title(f'Average Tap-Out Volume for Bus Service {service_no} by Stop Sequence')\n",
        "    axs[1].set_xticks(range(len(passenger_demand_data[months[0]])))\n",
        "    axs[1].set_xticklabels(passenger_demand_data[months[0]]['Description'], rotation=90, ha='right')\n",
        "    axs[1].grid(axis='y')\n",
        "    axs[1].legend()\n",
        "\n",
        "    # Show the plots\n",
        "    plt.tight_layout()\n",
        "    plt.show()"
      ],
      "metadata": {
        "id": "OQsh6zUxbJFp"
      },
      "execution_count": null,
      "outputs": []
    },
    {
      "cell_type": "code",
      "source": [
        "passenger_volume_65 = plot_monthly_passenger_demand(bus_routes_combined, passenger_volume_am, \"65\")\n",
        "passenger_volume_67 = plot_monthly_passenger_demand(bus_routes_combined, passenger_volume_am, \"67\")\n",
        "passenger_volume_170 = plot_monthly_passenger_demand(bus_routes_combined, passenger_volume_am, \"170\")"
      ],
      "metadata": {
        "id": "goijaOXxbL1W"
      },
      "execution_count": null,
      "outputs": []
    },
    {
      "cell_type": "markdown",
      "source": [
        "Obtaining route information using the OneMap API\n",
        "\n"
      ],
      "metadata": {
        "id": "Uk-6r4zDbtqp"
      }
    },
    {
      "cell_type": "code",
      "source": [
        "def get_coordinates(bus_stop_codes, bus_stops):\n",
        "\n",
        "    chosen_stops = bus_stops[bus_stops['BusStopCode'].isin(bus_stop_codes)].copy()\n",
        "\n",
        "    chosen_stops['BusStopCode'] = pd.Categorical(chosen_stops['BusStopCode'], categories=bus_stop_codes, ordered=True)\n",
        "\n",
        "    chosen_stops = chosen_stops.sort_values('BusStopCode')\n",
        "\n",
        "    chosen_stops['lat_lon'] = chosen_stops['Latitude'].astype(str) + ',' + chosen_stops['Longitude'].astype(str)\n",
        "\n",
        "    return chosen_stops['lat_lon'].tolist()"
      ],
      "metadata": {
        "id": "Y8zntrLBbTPN"
      },
      "execution_count": null,
      "outputs": []
    },
    {
      "cell_type": "markdown",
      "source": [
        "Show all possible routes from a single start point to multiple end points using a specified mode of transport"
      ],
      "metadata": {
        "id": "oHdbid-jbqDf"
      }
    },
    {
      "cell_type": "code",
      "source": [
        "import requests\n",
        "\n",
        "def get_route_info(start, end, MODE):\n",
        "    params = {\n",
        "        'start': start,\n",
        "        'end': end,\n",
        "        'mode': MODE,\n",
        "        'routeType': 'pt',\n",
        "        'date': '10-21-2024',\n",
        "        'time': '08:30:00',\n",
        "        'maxWalkDistance': 400,\n",
        "        'numItineraries': 3,  # Get multiple itineraries\n",
        "        'showIntermediateStops': 'true'  # Set this to true to get intermediate bus stops\n",
        "    }\n",
        "\n",
        "    headers = {'Authorization': onemap_api_key}\n",
        "    url = \"https://www.onemap.gov.sg/api/public/routingsvc/route\"\n",
        "\n",
        "    response = requests.get(url, headers=headers, params=params)\n",
        "\n",
        "    if response.status_code == 200:\n",
        "        return response.json()\n",
        "    else:\n",
        "        print(f\"Error: {response.status_code}, {response.text}\")\n",
        "        return None\n",
        "\n",
        "# Function to display the exact route with total duration for each itinerary\n",
        "def display_route_details(route_info, end_point):\n",
        "    if 'plan' in route_info:\n",
        "        print(f\"Routes to End Point: {end_point}\")\n",
        "        for itinerary in route_info['plan']['itineraries']:\n",
        "            print(\"\\nNew Itinerary:\")\n",
        "            total_duration = 0  # Initialize total duration for the itinerary\n",
        "\n",
        "            for leg in itinerary['legs']:\n",
        "                leg_duration = leg['duration'] / 60  # Convert duration from seconds to minutes\n",
        "                total_duration += leg_duration  # Add leg duration to the total\n",
        "\n",
        "                print(f\"Mode: {leg['mode']}\")\n",
        "                if leg['mode'].lower() in ['bus', 'subway']:\n",
        "                    print(f\"Service: {leg['route']}\")\n",
        "                    print(f\"From Stop: {leg['from']['name']}, To Stop: {leg['to']['name']}\")\n",
        "                    print(f\"Intermediate Stops: {[stop['name'] for stop in leg.get('intermediateStops', [])]}\")\n",
        "\n",
        "                print(f\"Start Location: {leg['from']['name']} at {leg['from']['lat']}, {leg['from']['lon']}\")\n",
        "                print(f\"End Location: {leg['to']['name']} at {leg['to']['lat']}, {leg['to']['lon']}\")\n",
        "                print(f\"Duration: {leg_duration} minutes\")\n",
        "                print(\"-\" * 30)\n",
        "\n",
        "            # Print the total duration for the itinerary\n",
        "            print(f\"Total Duration of Itinerary: {total_duration:.2f} minutes\")\n",
        "            print(\"=\" * 50)\n",
        "    else:\n",
        "        print(\"No route information found for endpoint:\", end_point)\n",
        "\n",
        "\n",
        "# Function to get routes for one start point with multiple end points\n",
        "def get_routes_for_multiple_endpoints(start_point, end_points, mode):\n",
        "    for end_point in end_points:\n",
        "        route_info = get_route_info(start_point, end_point, mode)\n",
        "        display_route_details(route_info, end_point)"
      ],
      "metadata": {
        "id": "AQjlVeH5bT8F"
      },
      "execution_count": null,
      "outputs": []
    },
    {
      "cell_type": "markdown",
      "source": [
        "Origin Destination Pairs for Bus 170"
      ],
      "metadata": {
        "id": "igCm81Zhb_Jg"
      }
    },
    {
      "cell_type": "code",
      "source": [
        "origin_coordinates = get_coordinates([40011], bus_stops)\n",
        "codes = [41021, 42051, 43061, 44021]\n",
        "dest_coordinates = get_coordinates(codes, bus_stops)\n",
        "\n",
        "mode = 'TRANSIT'\n",
        "get_routes_for_multiple_endpoints(origin_coordinates, dest_coordinates, mode)"
      ],
      "metadata": {
        "id": "e0qzzLJJb-Ur"
      },
      "execution_count": null,
      "outputs": []
    },
    {
      "cell_type": "markdown",
      "source": [
        "Origin Destination Pairs for Bus 65"
      ],
      "metadata": {
        "id": "z-mOMuoirPlL"
      }
    },
    {
      "cell_type": "code",
      "source": [
        "tamp_int_coords = get_coordinates([75009], bus_stops)\n",
        "codes_65 = [71129, 70109, 60119, 13059, 14141]\n",
        "dest_coordinates_65 = get_coordinates(codes_65, bus_stops)\n",
        "\n",
        "mode = 'TRANSIT'\n",
        "get_routes_for_multiple_endpoints(tamp_int_coords, dest_coordinates_65, mode)"
      ],
      "metadata": {
        "id": "hXDiA5gio2AA"
      },
      "execution_count": null,
      "outputs": []
    },
    {
      "cell_type": "code",
      "source": [
        "bencoolen_coords = get_coordinates([4029], bus_stops)\n",
        "codes_65 = [13059, 14141]\n",
        "dest_coordinates_65 = get_coordinates(codes_65, bus_stops)\n",
        "\n",
        "mode = 'TRANSIT'\n",
        "get_routes_for_multiple_endpoints(bencoolen_coords, dest_coordinates_65, mode)"
      ],
      "metadata": {
        "id": "uD5Y3-MTpnwD"
      },
      "execution_count": null,
      "outputs": []
    },
    {
      "cell_type": "markdown",
      "source": [
        "Origin Destination Pairs for Bus 67"
      ],
      "metadata": {
        "id": "6A3Wou-hrS-9"
      }
    },
    {
      "cell_type": "code",
      "source": [
        "cck_int_coords = get_coordinates([44009], bus_stops)\n",
        "codes_67 = [44029, 42099, 40019]\n",
        "dest_coordinates_67 = get_coordinates(codes_67, bus_stops)\n",
        "\n",
        "mode = 'TRANSIT'\n",
        "get_routes_for_multiple_endpoints(cck_int_coords, dest_coordinates_67, mode)"
      ],
      "metadata": {
        "id": "H_vqOyV4pw_j"
      },
      "execution_count": null,
      "outputs": []
    }
  ],
  "metadata": {
    "kernelspec": {
      "display_name": ".venv",
      "language": "python",
      "name": "python3"
    },
    "language_info": {
      "codemirror_mode": {
        "name": "ipython",
        "version": 3
      },
      "file_extension": ".py",
      "mimetype": "text/x-python",
      "name": "python",
      "nbconvert_exporter": "python",
      "pygments_lexer": "ipython3",
      "version": "3.12.5"
    },
    "colab": {
      "provenance": []
    }
  },
  "nbformat": 4,
  "nbformat_minor": 0
}